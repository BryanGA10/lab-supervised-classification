{
  "cells": [
    {
      "cell_type": "markdown",
      "metadata": {
        "id": "lkTWcDcn24hT"
      },
      "source": [
        "# Supervised classification\n"
      ]
    },
    {
      "cell_type": "code",
      "execution_count": null,
      "metadata": {
        "id": "1Bg1WANz24ha"
      },
      "outputs": [],
      "source": [
        "# Import libraries"
      ]
    },
    {
      "cell_type": "markdown",
      "source": [
        "In the data.csv there are letters (uppercases and lowercases) and numbers in a row format, in the cell below load the **data_all.csv** and explore it.\n"
      ],
      "metadata": {
        "id": "RwDqZ03T4Cbq"
      }
    },
    {
      "cell_type": "code",
      "source": [
        "# Your code here\n",
        "df ="
      ],
      "metadata": {
        "id": "CGZgqOW-3nAF"
      },
      "execution_count": null,
      "outputs": []
    },
    {
      "cell_type": "markdown",
      "source": [
        "\n",
        "Now than you had identified your data try to define your X and y (target) for next classification models."
      ],
      "metadata": {
        "id": "YgsfkuBe3kXA"
      }
    },
    {
      "cell_type": "code",
      "execution_count": null,
      "metadata": {
        "id": "V1bD24Bj24hc"
      },
      "outputs": [],
      "source": [
        "# Your code here\n",
        "X = \n",
        "y ="
      ]
    },
    {
      "cell_type": "markdown",
      "source": [
        "To solve this lab you need to reshape it into 28x28 pixels in a variable called `x_images`. <br> **Hint:** You can use *np.reshape(size of data, 28, 28))*"
      ],
      "metadata": {
        "id": "5IvfIIwY4QBd"
      }
    },
    {
      "cell_type": "code",
      "source": [
        "# Your code here\n",
        "x_images = "
      ],
      "metadata": {
        "id": "rxiUr62A4Ryf"
      },
      "execution_count": null,
      "outputs": []
    },
    {
      "cell_type": "markdown",
      "source": [
        "Before applying any model, you need to know which labels are which. In this way, you need to visualize some data to realize which number-labels represents a letter or a number.\n",
        "<br> **Hint:** You can use *plt.imshow()*"
      ],
      "metadata": {
        "id": "yvgKPJk-4WX4"
      }
    },
    {
      "cell_type": "code",
      "source": [
        "# Your code here"
      ],
      "metadata": {
        "id": "uATQ2Fel4lrB"
      },
      "execution_count": null,
      "outputs": []
    },
    {
      "cell_type": "markdown",
      "metadata": {
        "id": "spEoKu3B24hd"
      },
      "source": [
        "* Now, try to train a classifier model to predict the uppercases. Use every single model you know for classification."
      ]
    },
    {
      "cell_type": "code",
      "execution_count": null,
      "metadata": {
        "id": "uThyeQ2U24he"
      },
      "outputs": [],
      "source": [
        "# Your code here"
      ]
    },
    {
      "cell_type": "markdown",
      "metadata": {
        "id": "CmXYDDT424he"
      },
      "source": [
        "* Try to do the same thing with lowercases."
      ]
    },
    {
      "cell_type": "code",
      "execution_count": null,
      "metadata": {
        "id": "ioAVcKaJ24hf"
      },
      "outputs": [],
      "source": [
        "# Your code here"
      ]
    },
    {
      "cell_type": "markdown",
      "metadata": {
        "id": "FnSFymuW24hg"
      },
      "source": [
        "* Try to do the same thing with numbers."
      ]
    },
    {
      "cell_type": "code",
      "execution_count": null,
      "metadata": {
        "id": "BMSZmQgm24hh"
      },
      "outputs": [],
      "source": [
        "# Your code here"
      ]
    }
  ],
  "metadata": {
    "kernelspec": {
      "display_name": "Python 3",
      "language": "python",
      "name": "python3"
    },
    "language_info": {
      "codemirror_mode": {
        "name": "ipython",
        "version": 3
      },
      "file_extension": ".py",
      "mimetype": "text/x-python",
      "name": "python",
      "nbconvert_exporter": "python",
      "pygments_lexer": "ipython3",
      "version": "3.7.4"
    },
    "colab": {
      "name": "Supervised Classification.ipynb",
      "provenance": []
    }
  },
  "nbformat": 4,
  "nbformat_minor": 0
}